{
 "cells": [
  {
   "cell_type": "code",
   "execution_count": null,
   "id": "6e521658-7307-445e-8d20-7cd891de20f9",
   "metadata": {},
   "outputs": [],
   "source": [
    "Task 1: Based on the given data, perform the following tasks:\n",
    "- Calculate Accuracy, Precision, Recall and F1 Score\n",
    "- Perform Model training and evaluation using the K-Fold Cross\n",
    "Validation techniques\n"
   ]
  },
  {
   "cell_type": "code",
   "execution_count": 3,
   "id": "a148f19a-bb87-4930-9b5d-43d9b9168fce",
   "metadata": {},
   "outputs": [],
   "source": [
    "import pandas as pd\n",
    "from sklearn.model_selection import train_test_split\n",
    "from sklearn.linear_model import LogisticRegression\n",
    "from sklearn.metrics import accuracy_score, precision_score,recall_score, f1_score\n",
    "from sklearn.model_selection import KFold\n",
    "import numpy as np"
   ]
  },
  {
   "cell_type": "code",
   "execution_count": 4,
   "id": "7ca50640-0a0d-487e-bdea-234f44d4fef8",
   "metadata": {},
   "outputs": [],
   "source": [
    "# Sample Toy Dataset for Diabetes Prediction\n",
    "data = {\n",
    " 'Age': [45, 50, 60, 30, 70, 35, 40, 60, 25, 55],\n",
    " 'BMI': [30.1, 32.2, 35.0, 28.5, 31.8, 25.6, 29.3, 33.5, 24.5,\n",
    "27.2],\n",
    " 'Blood Pressure': [130, 140, 150, 120, 160, 125, 135, 145, 118,\n",
    "142],\n",
    " 'Insulin': [180, 220, 300, 140, 350, 200, 210, 280, 120, 250],\n",
    " 'Glucose': [120, 140, 160, 100, 180, 110, 115, 150, 95, 145],\n",
    " 'Pregnancies': [2, 3, 0, 1, 4, 2, 1, 3, 0, 2],\n",
    " 'Outcome': [1, 1, 1, 0, 1, 0, 0, 1, 0, 1]\n",
    "}\n",
    "# Convert to DataFrame\n",
    "df = pd.DataFrame(data)"
   ]
  },
  {
   "cell_type": "code",
   "execution_count": 6,
   "id": "b53352f2-5983-460b-a7f6-4445ef0cb799",
   "metadata": {},
   "outputs": [],
   "source": [
    "# Features and target variable\n",
    "X = df.drop(columns=['Outcome'])\n",
    "y = df['Outcome']\n",
    "# Split the dataset into training and test sets\n",
    "X_train, X_test, y_train, y_test = train_test_split(X, y,test_size=0.2, random_state=42)"
   ]
  },
  {
   "cell_type": "code",
   "execution_count": 17,
   "id": "072e3d4b-3c5b-4845-8930-a24a51eeaf08",
   "metadata": {},
   "outputs": [],
   "source": [
    "# Model: Logistic Regression\n",
    "model = LogisticRegression()\n",
    "# K-Fold Cross Validation (5 folds)\n",
    "kf = KFold(n_splits=5, shuffle=True, random_state=42)\n",
    "\n",
    "accuracies = []\n",
    "precisions = []\n",
    "recalls = []\n",
    "f1_scores = []\n"
   ]
  },
  {
   "cell_type": "code",
   "execution_count": 19,
   "id": "01ffcef2-e6c9-424c-9739-d2d9ac91735c",
   "metadata": {},
   "outputs": [
    {
     "name": "stdout",
     "output_type": "stream",
     "text": [
      "Average Accuracy: 1.00\n",
      "Average Precision: 0.00\n",
      "Average Recall: 0.00\n",
      "Average F1-Score: 0.00\n"
     ]
    },
    {
     "name": "stderr",
     "output_type": "stream",
     "text": [
      "C:\\Users\\Birendra\\anaconda3\\envs\\cleanenv\\Lib\\site-packages\\sklearn\\metrics\\_classification.py:1706: UndefinedMetricWarning: Precision is ill-defined and being set to 0.0 due to no predicted samples. Use `zero_division` parameter to control this behavior.\n",
      "  _warn_prf(average, modifier, f\"{metric.capitalize()} is\", result.shape[0])\n",
      "C:\\Users\\Birendra\\anaconda3\\envs\\cleanenv\\Lib\\site-packages\\sklearn\\metrics\\_classification.py:1706: UndefinedMetricWarning: Recall is ill-defined and being set to 0.0 due to no true samples. Use `zero_division` parameter to control this behavior.\n",
      "  _warn_prf(average, modifier, f\"{metric.capitalize()} is\", result.shape[0])\n",
      "C:\\Users\\Birendra\\anaconda3\\envs\\cleanenv\\Lib\\site-packages\\sklearn\\metrics\\_classification.py:1706: UndefinedMetricWarning: F-score is ill-defined and being set to 0.0 due to no true nor predicted samples. Use `zero_division` parameter to control this behavior.\n",
      "  _warn_prf(average, modifier, f\"{metric.capitalize()} is\", result.shape[0])\n"
     ]
    }
   ],
   "source": [
    "# K-Fold Cross-Validation\n",
    "for train_index, val_index in kf.split(X_train):\n",
    "    X_train_fold, X_val_fold = X_train.iloc[train_index],X_train.iloc[val_index]\n",
    "    y_train_fold, y_val_fold = y_train.iloc[train_index],y_train.iloc[val_index]\n",
    "\n",
    " # Train the model\n",
    "model.fit(X_train_fold, y_train_fold)\n",
    "\n",
    " # Make predictions\n",
    "y_pred = model.predict(X_val_fold)\n",
    "\n",
    " # Evaluate the model\n",
    "accuracies.append(accuracy_score(y_val_fold, y_pred))\n",
    "precisions.append(precision_score(y_val_fold, y_pred))\n",
    "recalls.append(recall_score(y_val_fold, y_pred))\n",
    "f1_scores.append(f1_score(y_val_fold, y_pred))\n",
    "\n",
    "# Average metrics across all folds\n",
    "print(f\"Average Accuracy: {np.mean(accuracies):.2f}\")\n",
    "print(f\"Average Precision: {np.mean(precisions):.2f}\")\n",
    "print(f\"Average Recall: {np.mean(recalls):.2f}\")\n",
    "print(f\"Average F1-Score: {np.mean(f1_scores):.2f}\")"
   ]
  },
  {
   "cell_type": "code",
   "execution_count": null,
   "id": "a1bf1cb0-0c0a-4651-a5e8-41ae457a8e9c",
   "metadata": {},
   "outputs": [],
   "source": []
  }
 ],
 "metadata": {
  "kernelspec": {
   "display_name": "Python [conda env:cleanenv]",
   "language": "python",
   "name": "conda-env-cleanenv-py"
  },
  "language_info": {
   "codemirror_mode": {
    "name": "ipython",
    "version": 3
   },
   "file_extension": ".py",
   "mimetype": "text/x-python",
   "name": "python",
   "nbconvert_exporter": "python",
   "pygments_lexer": "ipython3",
   "version": "3.11.13"
  }
 },
 "nbformat": 4,
 "nbformat_minor": 5
}
