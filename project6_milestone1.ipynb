{
  "nbformat": 4,
  "nbformat_minor": 0,
  "metadata": {
    "colab": {
      "provenance": []
    },
    "kernelspec": {
      "name": "python3",
      "display_name": "Python 3"
    },
    "language_info": {
      "name": "python"
    }
  },
  "cells": [
    {
      "cell_type": "code",
      "source": [
        "#Milestone 1 – Data Acquisition & Preprocessing\n",
        "\n",
        "#Goal:Acquire the NYC Yellow Cab dataset, clean and format it for consistency,\n",
        " #and store it efficiently for scalable analysis."
      ],
      "metadata": {
        "id": "tEPwh59ggzE7"
      },
      "execution_count": null,
      "outputs": []
    },
    {
      "cell_type": "code",
      "execution_count": null,
      "metadata": {
        "id": "ROsIeADXbTzY"
      },
      "outputs": [],
      "source": [
        "#import necessary libraries\n",
        "\n",
        "import pandas as pd       #data processing\n",
        "import numpy as np        #linear algebra\n",
        "#data visualisation\n",
        "import seaborn as sns\n",
        "sns.set()\n",
        "import matplotlib.pyplot as plt\n",
        "%matplotlib inline\n",
        "import datetime as dt\n",
        "import warnings; warnings.simplefilter('ignore')\n",
        "\n",
        "import pyspark\n",
        "from pyspark.sql import SparkSession\n",
        "from pyspark.sql.functions import col, hour, dayofweek, date_format, count, when, sum as _sum, avg\n",
        "from pyspark.ml import Pipeline\n",
        "from pyspark.ml.feature import VectorAssembler, StringIndexer, StandardScaler\n",
        "from pyspark.ml.regression import LinearRegression\n",
        "from pyspark.ml.evaluation import RegressionEvaluator"
      ]
    },
    {
      "cell_type": "code",
      "source": [
        "from pyspark.sql import SparkSession\n",
        "\n",
        "spark = (\n",
        "    SparkSession.builder\n",
        "    .appName(\"NYC Taxi Fare Prediction\")\n",
        "    .getOrCreate()\n",
        ")\n",
        "\n",
        "# change loglovel to Error\n",
        "spark.sparkContext.setLogLevel(\"ERROR\")\n",
        "\n",
        "#Load parquet files into separte DataFrames\n",
        "df = spark.read.parquet('/content/sample_data/yellow_tripdata_2025-01.parquet', header=True, inferSchema=True)\n",
        "\n",
        "print(\"Row count:\", df.count())\n",
        "df.printSchema()\n",
        "df.show(5, truncate=False)"
      ],
      "metadata": {
        "colab": {
          "base_uri": "https://localhost:8080/"
        },
        "id": "JsLifkrabYFS",
        "outputId": "b83d7177-841a-41de-c653-8d25be8e5c72"
      },
      "execution_count": null,
      "outputs": [
        {
          "output_type": "stream",
          "name": "stdout",
          "text": [
            "Row count: 3475226\n",
            "root\n",
            " |-- VendorID: integer (nullable = true)\n",
            " |-- tpep_pickup_datetime: timestamp_ntz (nullable = true)\n",
            " |-- tpep_dropoff_datetime: timestamp_ntz (nullable = true)\n",
            " |-- passenger_count: long (nullable = true)\n",
            " |-- trip_distance: double (nullable = true)\n",
            " |-- RatecodeID: long (nullable = true)\n",
            " |-- store_and_fwd_flag: string (nullable = true)\n",
            " |-- PULocationID: integer (nullable = true)\n",
            " |-- DOLocationID: integer (nullable = true)\n",
            " |-- payment_type: long (nullable = true)\n",
            " |-- fare_amount: double (nullable = true)\n",
            " |-- extra: double (nullable = true)\n",
            " |-- mta_tax: double (nullable = true)\n",
            " |-- tip_amount: double (nullable = true)\n",
            " |-- tolls_amount: double (nullable = true)\n",
            " |-- improvement_surcharge: double (nullable = true)\n",
            " |-- total_amount: double (nullable = true)\n",
            " |-- congestion_surcharge: double (nullable = true)\n",
            " |-- Airport_fee: double (nullable = true)\n",
            " |-- cbd_congestion_fee: double (nullable = true)\n",
            "\n",
            "+--------+--------------------+---------------------+---------------+-------------+----------+------------------+------------+------------+------------+-----------+-----+-------+----------+------------+---------------------+------------+--------------------+-----------+------------------+\n",
            "|VendorID|tpep_pickup_datetime|tpep_dropoff_datetime|passenger_count|trip_distance|RatecodeID|store_and_fwd_flag|PULocationID|DOLocationID|payment_type|fare_amount|extra|mta_tax|tip_amount|tolls_amount|improvement_surcharge|total_amount|congestion_surcharge|Airport_fee|cbd_congestion_fee|\n",
            "+--------+--------------------+---------------------+---------------+-------------+----------+------------------+------------+------------+------------+-----------+-----+-------+----------+------------+---------------------+------------+--------------------+-----------+------------------+\n",
            "|1       |2025-01-01 00:18:38 |2025-01-01 00:26:59  |1              |1.6          |1         |N                 |229         |237         |1           |10.0       |3.5  |0.5    |3.0       |0.0         |1.0                  |18.0        |2.5                 |0.0        |0.0               |\n",
            "|1       |2025-01-01 00:32:40 |2025-01-01 00:35:13  |1              |0.5          |1         |N                 |236         |237         |1           |5.1        |3.5  |0.5    |2.02      |0.0         |1.0                  |12.12       |2.5                 |0.0        |0.0               |\n",
            "|1       |2025-01-01 00:44:04 |2025-01-01 00:46:01  |1              |0.6          |1         |N                 |141         |141         |1           |5.1        |3.5  |0.5    |2.0       |0.0         |1.0                  |12.1        |2.5                 |0.0        |0.0               |\n",
            "|2       |2025-01-01 00:14:27 |2025-01-01 00:20:01  |3              |0.52         |1         |N                 |244         |244         |2           |7.2        |1.0  |0.5    |0.0       |0.0         |1.0                  |9.7         |0.0                 |0.0        |0.0               |\n",
            "|2       |2025-01-01 00:21:34 |2025-01-01 00:25:06  |3              |0.66         |1         |N                 |244         |116         |2           |5.8        |1.0  |0.5    |0.0       |0.0         |1.0                  |8.3         |0.0                 |0.0        |0.0               |\n",
            "+--------+--------------------+---------------------+---------------+-------------+----------+------------------+------------+------------+------------+-----------+-----+-------+----------+------------+---------------------+------------+--------------------+-----------+------------------+\n",
            "only showing top 5 rows\n",
            "\n"
          ]
        }
      ]
    },
    {
      "cell_type": "code",
      "source": [
        "# Step 1: Remove duplicates\n",
        "before_duplicates = df.count()\n",
        "df = df.drop_duplicates()\n",
        "after_duplicates = df.count()\n",
        "print(f\"Removed {before_duplicates - after_duplicates} duplicate rows.\")"
      ],
      "metadata": {
        "colab": {
          "base_uri": "https://localhost:8080/"
        },
        "id": "ksWVA_2sdYkE",
        "outputId": "4c8899e7-b4a6-4b41-b99b-c8ea0a10b310"
      },
      "execution_count": null,
      "outputs": [
        {
          "output_type": "stream",
          "name": "stdout",
          "text": [
            "Removed 0 duplicate rows.\n"
          ]
        }
      ]
    },
    {
      "cell_type": "code",
      "source": [
        "# Step 2: Check missing values\n",
        "missing_values = df.select([count(when(col(c).isNull(), c)).alias(c) for c in df.columns])\n",
        "print(\"\\nMissing values per column:\")\n",
        "missing_values.show()"
      ],
      "metadata": {
        "colab": {
          "base_uri": "https://localhost:8080/"
        },
        "id": "OxPjCxxJepD3",
        "outputId": "c7e3f2cc-7416-4601-e5f6-4562a1c640c7"
      },
      "execution_count": null,
      "outputs": [
        {
          "output_type": "stream",
          "name": "stdout",
          "text": [
            "\n",
            "Missing values per column:\n",
            "+--------+--------------------+---------------------+---------------+-------------+----------+------------------+------------+------------+------------+-----------+-----+-------+----------+------------+---------------------+------------+--------------------+-----------+------------------+\n",
            "|VendorID|tpep_pickup_datetime|tpep_dropoff_datetime|passenger_count|trip_distance|RatecodeID|store_and_fwd_flag|PULocationID|DOLocationID|payment_type|fare_amount|extra|mta_tax|tip_amount|tolls_amount|improvement_surcharge|total_amount|congestion_surcharge|Airport_fee|cbd_congestion_fee|\n",
            "+--------+--------------------+---------------------+---------------+-------------+----------+------------------+------------+------------+------------+-----------+-----+-------+----------+------------+---------------------+------------+--------------------+-----------+------------------+\n",
            "|       0|                   0|                    0|         540149|            0|    540149|            540149|           0|           0|           0|          0|    0|      0|         0|           0|                    0|           0|              540149|     540149|                 0|\n",
            "+--------+--------------------+---------------------+---------------+-------------+----------+------------------+------------+------------+------------+-----------+-----+-------+----------+------------+---------------------+------------+--------------------+-----------+------------------+\n",
            "\n"
          ]
        }
      ]
    },
    {
      "cell_type": "code",
      "source": [
        "#Drop rows with missing values\n",
        "df.na.drop()"
      ],
      "metadata": {
        "colab": {
          "base_uri": "https://localhost:8080/"
        },
        "id": "8QvAxL4OfQA2",
        "outputId": "3f6e134d-d4c2-4c97-ff19-f0a4872531ca"
      },
      "execution_count": null,
      "outputs": [
        {
          "output_type": "execute_result",
          "data": {
            "text/plain": [
              "DataFrame[VendorID: int, tpep_pickup_datetime: timestamp_ntz, tpep_dropoff_datetime: timestamp_ntz, passenger_count: bigint, trip_distance: double, RatecodeID: bigint, store_and_fwd_flag: string, PULocationID: int, DOLocationID: int, payment_type: bigint, fare_amount: double, extra: double, mta_tax: double, tip_amount: double, tolls_amount: double, improvement_surcharge: double, total_amount: double, congestion_surcharge: double, Airport_fee: double, cbd_congestion_fee: double]"
            ]
          },
          "metadata": {},
          "execution_count": 4
        }
      ]
    },
    {
      "cell_type": "code",
      "source": [
        "# Convert columns to snake_case\n",
        "import re\n",
        "\n",
        "def to_snake_case(name):\n",
        "    name = re.sub(r'[^0-9a-zA-Z]+', '_', name)  # Replace non-alphanumeric with _\n",
        "    name = re.sub(r'([a-z0-9])([A-Z])', r'\\1_\\2', name)  # Handle camelCase\n",
        "    return name.lower()\n",
        "\n",
        "for col_name in df.columns:\n",
        "    df = df.withColumnRenamed(col_name, to_snake_case(col_name))"
      ],
      "metadata": {
        "id": "LY5FAlnkfVs2"
      },
      "execution_count": null,
      "outputs": []
    },
    {
      "cell_type": "code",
      "source": [
        "#rename column names\n",
        "\n",
        "df = df.withColumnRenamed('tpep_pickup_datetime', 'pickup_datetime')\n",
        "df = df.withColumnRenamed('tpep_dropoff_datetime', 'dropoff_datetime')"
      ],
      "metadata": {
        "id": "P6tESiy5fdTM"
      },
      "execution_count": null,
      "outputs": []
    },
    {
      "cell_type": "code",
      "source": [
        "# convert columns Data types\n",
        "from pyspark.sql.functions import col, to_timestamp\n",
        "\n",
        "df = (df\n",
        "    .withColumn(\"pickup_datetime\", to_timestamp(col(\"pickup_datetime\"), \"yyyy-MM-dd HH:mm:ss\"))\n",
        "    .withColumn(\"dropoff_datetime\", to_timestamp(col(\"dropoff_datetime\"), \"yyyy-MM-dd HH:mm:ss\"))\n",
        ")\n",
        "\n",
        "# Display the schema to confirm the type change\n",
        "df.printSchema()"
      ],
      "metadata": {
        "colab": {
          "base_uri": "https://localhost:8080/"
        },
        "id": "6V8HJGCBVIXx",
        "outputId": "85353e73-115e-48c1-868d-ecc55dec4f4e"
      },
      "execution_count": null,
      "outputs": [
        {
          "output_type": "stream",
          "name": "stdout",
          "text": [
            "root\n",
            " |-- vendor_id: integer (nullable = true)\n",
            " |-- pickup_datetime: timestamp (nullable = true)\n",
            " |-- dropoff_datetime: timestamp (nullable = true)\n",
            " |-- passenger_count: long (nullable = true)\n",
            " |-- trip_distance: double (nullable = true)\n",
            " |-- ratecode_id: long (nullable = true)\n",
            " |-- store_and_fwd_flag: string (nullable = true)\n",
            " |-- pulocation_id: integer (nullable = true)\n",
            " |-- dolocation_id: integer (nullable = true)\n",
            " |-- payment_type: long (nullable = true)\n",
            " |-- fare_amount: double (nullable = true)\n",
            " |-- extra: double (nullable = true)\n",
            " |-- mta_tax: double (nullable = true)\n",
            " |-- tip_amount: double (nullable = true)\n",
            " |-- tolls_amount: double (nullable = true)\n",
            " |-- improvement_surcharge: double (nullable = true)\n",
            " |-- total_amount: double (nullable = true)\n",
            " |-- congestion_surcharge: double (nullable = true)\n",
            " |-- airport_fee: double (nullable = true)\n",
            " |-- cbd_congestion_fee: double (nullable = true)\n",
            "\n"
          ]
        }
      ]
    },
    {
      "cell_type": "code",
      "source": [
        "# Outlier detection & removal visualization\n",
        "# Convert necessary columns to Pandas Series for plotting and take a sample\n",
        "sample_df = df.select(\"fare_amount\", \"trip_distance\", \"total_amount\").sample(False, 0.1, seed=42).toPandas()\n",
        "\n",
        "fig, axes = plt.subplots(1, 4, figsize=(12, 4))\n",
        "\n",
        "sns.boxplot(data = sample_df, x = \"fare_amount\", fliersize = 2, ax = axes[0])\n",
        "sns.boxplot(data = sample_df, x = \"trip_distance\", fliersize = 2, ax = axes[1])\n",
        "#sns.boxplot(data = sample_df, x = \"duration\", fliersize = 2, ax = axes[2]) # 'duration' column not in selected_columns\n",
        "sns.boxplot(data = sample_df, x = \"total_amount\", fliersize = 2, ax = axes[3]) # Fixed index to 3\n",
        "\n",
        "plt.tight_layout()\n",
        "plt.show()"
      ],
      "metadata": {
        "colab": {
          "base_uri": "https://localhost:8080/",
          "height": 317
        },
        "id": "WhlGqchLOnIC",
        "outputId": "f9eec943-7757-478c-b15e-95a325d90aca"
      },
      "execution_count": null,
      "outputs": [
        {
          "output_type": "display_data",
          "data": {
            "text/plain": [
              "<Figure size 1200x400 with 4 Axes>"
            ],
            "image/png": "[encoded data removed]"
          },
          "metadata": {}
        }
      ]
    },
    {
      "cell_type": "code",
      "source": [
        "#Outlier detection & removal\n",
        "\n",
        "df = df.filter((col(\"trip_distance\") > 0) & (col(\"trip_distance\") < 100)) #filtering rows\n",
        "df = df.filter(df.fare_amount > 0)\n",
        "df = df.filter(df.passenger_count > 0)\n",
        "df = df.filter(df.total_amount > 0)"
      ],
      "metadata": {
        "id": "Jn4m-1Jvfxqd"
      },
      "execution_count": null,
      "outputs": []
    },
    {
      "cell_type": "code",
      "source": [
        "selected_columns = [\n",
        "    \"vendor_id\",\"pickup_datetime\", \"dropoff_datetime\", \"passenger_count\", \"trip_distance\",\n",
        "    \"fare_amount\", \"tip_amount\", \"tolls_amount\", \"total_amount\",\n",
        "    \"payment_type\", \"pulocation_id\", \"dolocation_id\"\n",
        "]\n",
        "df = df.select(selected_columns)"
      ],
      "metadata": {
        "id": "g6giVpEOZeud"
      },
      "execution_count": null,
      "outputs": []
    },
    {
      "cell_type": "code",
      "source": [
        "# Save the cleaned DataFrame as a parquet\n",
        "df.write.parquet(\"/content/cleaned_yellow_tripdata.parquet\")"
      ],
      "metadata": {
        "id": "GyCDhKQ2gI4d"
      },
      "execution_count": null,
      "outputs": []
    },
    {
      "cell_type": "code",
      "source": [
        "### END OF MILESTONE 1.\n",
        "####  data cleaned, removed outliners and saved as cleaned_yellow_tripdata.parquet."
      ],
      "metadata": {
        "id": "lQ_yp-_XDBpV"
      },
      "execution_count": null,
      "outputs": []
    }
  ]
}