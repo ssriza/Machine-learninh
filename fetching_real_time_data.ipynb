{
 "cells": [
  {
   "cell_type": "code",
   "execution_count": 1,
   "id": "184d5ed2-1df7-434b-972d-36536b6ae3ee",
   "metadata": {},
   "outputs": [],
   "source": [
    "import pandas as pd #for data manipulation\n",
    "import requests #send http requests to fetch live data\n",
    "import matplotlib.pyplot as plt\n",
    "from datetime import datetime\n",
    "import time"
   ]
  },
  {
   "cell_type": "code",
   "execution_count": null,
   "id": "1ebc160a-c75c-434f-b44b-f7147878908c",
   "metadata": {},
   "outputs": [],
   "source": [
    "import requests\n",
    "import time\n",
    "from datetime import datetime\n",
    "\n",
    "URL = \"https://your-api-endpoint.com/data\"\n",
    "\n",
    "def fetch_data():\n",
    "    try:\n",
    "        response = requests.get(URL)\n",
    "        response.raise_for_status()\n",
    "        data = response.json()  # or response.text if not JSON\n",
    "        print(f\"[{datetime.now()}] Data fetched successfully.\")\n",
    "        # Process or store the data here\n",
    "        return data\n",
    "    except requests.RequestException as e:\n",
    "        print(f\"[{datetime.now()}] Error fetching data: {e}\")\n",
    "        return None\n",
    "\n",
    "if __name__ == \"__main__\":\n",
    "    while True:\n",
    "        fetch_data()\n",
    "        time.sleep(1800)  # 1800 seconds = 30 minutes\n"
   ]
  },
  {
   "cell_type": "code",
   "execution_count": null,
   "id": "62f51bcb-d6c2-4e8c-a551-c6bb8430efbc",
   "metadata": {},
   "outputs": [],
   "source": [
    "# to schedule every 30 mins\n",
    "import requests\n",
    "import time\n",
    "from datetime import datetime\n",
    "\n",
    "URL = \"https://your-api-endpoint.com/data\"\n",
    "\n",
    "def fetch_data():\n",
    "    try:\n",
    "        response = requests.get(URL)\n",
    "        response.raise_for_status()\n",
    "        data = response.json()  # or response.text if not JSON\n",
    "        print(f\"[{datetime.now()}] Data fetched successfully.\")\n",
    "        # Process or store the data here\n",
    "        return data\n",
    "    except requests.RequestException as e:\n",
    "        print(f\"[{datetime.now()}] Error fetching data: {e}\")\n",
    "        return None\n",
    "\n",
    "if __name__ == \"__main__\":\n",
    "    while True:\n",
    "        fetch_data()\n",
    "        time.sleep(1800)  # 1800 seconds = 30 minutes\n"
   ]
  },
  {
   "cell_type": "code",
   "execution_count": 2,
   "id": "2024758a-1e9c-4046-baee-d765caad9ef1",
   "metadata": {},
   "outputs": [
    {
     "data": {
      "text/plain": [
       "{'bitcoin': {'usd': 118686}}"
      ]
     },
     "execution_count": 2,
     "metadata": {},
     "output_type": "execute_result"
    }
   ],
   "source": [
    "url = 'https://api.coingecko.com/api/v3/simple/price?ids=bitcoin&vs_currencies=usd'\n",
    "response = requests.get(url)\n",
    "data = response.json()\n",
    "data"
   ]
  },
  {
   "cell_type": "code",
   "execution_count": 5,
   "id": "52dd4417-fc94-4eaf-a365-6caed0069251",
   "metadata": {},
   "outputs": [
    {
     "data": {
      "text/plain": [
       "119925"
      ]
     },
     "execution_count": 5,
     "metadata": {},
     "output_type": "execute_result"
    }
   ],
   "source": [
    "price = data['bitcoin']['usd']\n",
    "price"
   ]
  },
  {
   "cell_type": "code",
   "execution_count": 3,
   "id": "63f00ed3-c460-4d47-bf59-8dd93267e92a",
   "metadata": {},
   "outputs": [],
   "source": [
    "def fetch_price(): #words are conected using\n",
    "    try:\n",
    "        url = 'https://api.coingecko.com/api/v3/simple/price?ids=bitcoin&vs_currencies=usd'\n",
    "        response = requests.get(url)\n",
    "        data = response.json()\n",
    "        price = data['bitcoin']['usd']\n",
    "        return price\n",
    "    except Exception as e:\n",
    "         print(f\"Error while fetching the data: {e}\")\n",
    "         return none\n",
    "        \n",
    "    "
   ]
  },
  {
   "cell_type": "code",
   "execution_count": 5,
   "id": "91388073-ef46-42f5-898d-7ec89ddd3793",
   "metadata": {},
   "outputs": [
    {
     "data": {
      "text/html": [
       "<div>\n",
       "<style scoped>\n",
       "    .dataframe tbody tr th:only-of-type {\n",
       "        vertical-align: middle;\n",
       "    }\n",
       "\n",
       "    .dataframe tbody tr th {\n",
       "        vertical-align: top;\n",
       "    }\n",
       "\n",
       "    .dataframe thead th {\n",
       "        text-align: right;\n",
       "    }\n",
       "</style>\n",
       "<table border=\"1\" class=\"dataframe\">\n",
       "  <thead>\n",
       "    <tr style=\"text-align: right;\">\n",
       "      <th></th>\n",
       "      <th>timestamp</th>\n",
       "      <th>price</th>\n",
       "    </tr>\n",
       "  </thead>\n",
       "  <tbody>\n",
       "  </tbody>\n",
       "</table>\n",
       "</div>"
      ],
      "text/plain": [
       "Empty DataFrame\n",
       "Columns: [timestamp, price]\n",
       "Index: []"
      ]
     },
     "execution_count": 5,
     "metadata": {},
     "output_type": "execute_result"
    }
   ],
   "source": [
    "price_log = pd.DataFrame(columns=['timestamp','price'])\n",
    "price_log"
   ]
  },
  {
   "cell_type": "code",
   "execution_count": 6,
   "id": "b775ccd1-96bd-4975-b9e8-a4b1dc837b26",
   "metadata": {},
   "outputs": [
    {
     "name": "stderr",
     "output_type": "stream",
     "text": [
      "C:\\Users\\Birendra\\AppData\\Local\\Temp\\ipykernel_15164\\1063349579.py:5: FutureWarning: The behavior of DataFrame concatenation with empty or all-NA entries is deprecated. In a future version, this will no longer exclude empty or all-NA columns when determining the result dtypes. To retain the old behavior, exclude the relevant entries before the concat operation.\n",
      "  price_log = pd.concat([price_log, pd.DataFrame([[now, price]], columns=['timestamp', 'price'])])\n"
     ]
    },
    {
     "name": "stdout",
     "output_type": "stream",
     "text": [
      "19:02:45 -> $118708\n",
      "19:02:56 -> $118708\n",
      "19:03:06 -> $118708\n",
      "19:03:16 -> $118708\n",
      "19:03:26 -> $118708\n",
      "19:03:36 -> $118705\n",
      "19:03:46 -> $118705\n",
      "Error while fetching the data: 'bitcoin'\n"
     ]
    },
    {
     "ename": "NameError",
     "evalue": "name 'none' is not defined",
     "output_type": "error",
     "traceback": [
      "\u001b[31m---------------------------------------------------------------------------\u001b[39m",
      "\u001b[31mKeyError\u001b[39m                                  Traceback (most recent call last)",
      "\u001b[36mCell\u001b[39m\u001b[36m \u001b[39m\u001b[32mIn[3]\u001b[39m\u001b[32m, line 6\u001b[39m, in \u001b[36mfetch_price\u001b[39m\u001b[34m()\u001b[39m\n\u001b[32m      5\u001b[39m data = response.json()\n\u001b[32m----> \u001b[39m\u001b[32m6\u001b[39m price = data[\u001b[33m'\u001b[39m\u001b[33mbitcoin\u001b[39m\u001b[33m'\u001b[39m][\u001b[33m'\u001b[39m\u001b[33musd\u001b[39m\u001b[33m'\u001b[39m]\n\u001b[32m      7\u001b[39m \u001b[38;5;28;01mreturn\u001b[39;00m price\n",
      "\u001b[31mKeyError\u001b[39m: 'bitcoin'",
      "\nDuring handling of the above exception, another exception occurred:\n",
      "\u001b[31mNameError\u001b[39m                                 Traceback (most recent call last)",
      "\u001b[36mCell\u001b[39m\u001b[36m \u001b[39m\u001b[32mIn[6]\u001b[39m\u001b[32m, line 3\u001b[39m\n\u001b[32m      1\u001b[39m \u001b[38;5;28;01mfor\u001b[39;00m _ \u001b[38;5;129;01min\u001b[39;00m \u001b[38;5;28mrange\u001b[39m(\u001b[32m30\u001b[39m):\n\u001b[32m      2\u001b[39m     now = datetime.now()\n\u001b[32m----> \u001b[39m\u001b[32m3\u001b[39m     price = fetch_price()\n\u001b[32m      4\u001b[39m     \u001b[38;5;28;01mif\u001b[39;00m price:\n\u001b[32m      5\u001b[39m         price_log = pd.concat([price_log, pd.DataFrame([[now, price]], columns=[\u001b[33m'\u001b[39m\u001b[33mtimestamp\u001b[39m\u001b[33m'\u001b[39m, \u001b[33m'\u001b[39m\u001b[33mprice\u001b[39m\u001b[33m'\u001b[39m])])\n",
      "\u001b[36mCell\u001b[39m\u001b[36m \u001b[39m\u001b[32mIn[3]\u001b[39m\u001b[32m, line 10\u001b[39m, in \u001b[36mfetch_price\u001b[39m\u001b[34m()\u001b[39m\n\u001b[32m      8\u001b[39m \u001b[38;5;28;01mexcept\u001b[39;00m \u001b[38;5;167;01mException\u001b[39;00m \u001b[38;5;28;01mas\u001b[39;00m e:\n\u001b[32m      9\u001b[39m      \u001b[38;5;28mprint\u001b[39m(\u001b[33mf\u001b[39m\u001b[33m\"\u001b[39m\u001b[33mError while fetching the data: \u001b[39m\u001b[38;5;132;01m{\u001b[39;00me\u001b[38;5;132;01m}\u001b[39;00m\u001b[33m\"\u001b[39m)\n\u001b[32m---> \u001b[39m\u001b[32m10\u001b[39m      \u001b[38;5;28;01mreturn\u001b[39;00m none\n",
      "\u001b[31mNameError\u001b[39m: name 'none' is not defined"
     ]
    }
   ],
   "source": [
    "for _ in range(30):\n",
    "    now = datetime.now()\n",
    "    price = fetch_price()\n",
    "    if price:\n",
    "        price_log = pd.concat([price_log, pd.DataFrame([[now, price]], columns=['timestamp', 'price'])])\n",
    "        print(f\"{now.strftime('%H:%M:%S')} -> ${price}\")\n",
    "    else:\n",
    "        print(f\"{now.strftime('%H:%M:%S')} -> Did not Fetch\")\n",
    "    time.sleep(10)\n",
    "                               \n",
    "                               "
   ]
  },
  {
   "cell_type": "code",
   "execution_count": 7,
   "id": "1029fd08-e930-4b09-b421-4132bef710c4",
   "metadata": {},
   "outputs": [],
   "source": [
    "price_log['MA_5'] = price_log['price'].rolling(window=5).mean()"
   ]
  },
  {
   "cell_type": "code",
   "execution_count": 8,
   "id": "3526d8bd-ea28-4b71-972c-3fff86f3ae8f",
   "metadata": {},
   "outputs": [
    {
     "name": "stderr",
     "output_type": "stream",
     "text": [
      "C:\\Users\\Birendra\\AppData\\Local\\Temp\\ipykernel_15164\\1645107754.py:2: FutureWarning: Series.fillna with 'method' is deprecated and will raise in a future version. Use obj.ffill() or obj.bfill() instead.\n",
      "  price_log['zscore'] = zscore(price_log['price'].fillna(method='bfill'))\n",
      "C:\\Users\\Birendra\\AppData\\Local\\Temp\\ipykernel_15164\\1645107754.py:2: FutureWarning: Downcasting object dtype arrays on .fillna, .ffill, .bfill is deprecated and will change in a future version. Call result.infer_objects(copy=False) instead. To opt-in to the future behavior, set `pd.set_option('future.no_silent_downcasting', True)`\n",
      "  price_log['zscore'] = zscore(price_log['price'].fillna(method='bfill'))\n"
     ]
    }
   ],
   "source": [
    "from scipy.stats import zscore\n",
    "price_log['zscore'] = zscore(price_log['price'].fillna(method='bfill'))"
   ]
  },
  {
   "cell_type": "code",
   "execution_count": 10,
   "id": "344c2b75-afbe-4540-b316-7843f51f5ea1",
   "metadata": {},
   "outputs": [
    {
     "data": {
      "text/plain": [
       "0    0.632456\n",
       "0    0.632456\n",
       "0    0.632456\n",
       "0    0.632456\n",
       "0    0.632456\n",
       "0   -1.581139\n",
       "0   -1.581139\n",
       "Name: zscore, dtype: float64"
      ]
     },
     "execution_count": 10,
     "metadata": {},
     "output_type": "execute_result"
    }
   ],
   "source": [
    "price_log['zscore']"
   ]
  },
  {
   "cell_type": "code",
   "execution_count": 11,
   "id": "c32c06ae-3a06-4221-9689-0e65d22d46a6",
   "metadata": {},
   "outputs": [
    {
     "data": {
      "text/plain": [
       "0    False\n",
       "0    False\n",
       "0    False\n",
       "0    False\n",
       "0    False\n",
       "0    False\n",
       "0    False\n",
       "Name: anomaly, dtype: bool"
      ]
     },
     "execution_count": 11,
     "metadata": {},
     "output_type": "execute_result"
    }
   ],
   "source": [
    "price_log['anomaly'] = price_log['zscore'].apply(lambda x: abs(x) > 2)\n",
    "price_log['anomaly']"
   ]
  },
  {
   "cell_type": "code",
   "execution_count": 12,
   "id": "28dc160a-88ec-4d89-9d67-027215619f52",
   "metadata": {},
   "outputs": [
    {
     "data": {
      "text/plain": [
       "<Figure size 1200x600 with 0 Axes>"
      ]
     },
     "execution_count": 12,
     "metadata": {},
     "output_type": "execute_result"
    },
    {
     "data": {
      "text/plain": [
       "<Figure size 1200x600 with 0 Axes>"
      ]
     },
     "metadata": {},
     "output_type": "display_data"
    }
   ],
   "source": [
    "plt.figure(figsize=(12,6)) #always in inches"
   ]
  },
  {
   "cell_type": "code",
   "execution_count": 13,
   "id": "ae1444b7-a425-4b47-83ae-118ab843b3de",
   "metadata": {},
   "outputs": [
    {
     "data": {
      "text/plain": [
       "(array([20292.79363426, 20292.79375   , 20292.79386574, 20292.79398148,\n",
       "        20292.79409722, 20292.79421296]),\n",
       " [Text(20292.79363425926, 0, '19:02:50'),\n",
       "  Text(20292.79375, 0, '19:03:00'),\n",
       "  Text(20292.79386574074, 0, '19:03:10'),\n",
       "  Text(20292.79398148148, 0, '19:03:20'),\n",
       "  Text(20292.79409722222, 0, '19:03:30'),\n",
       "  Text(20292.794212962963, 0, '19:03:40')])"
      ]
     },
     "execution_count": 13,
     "metadata": {},
     "output_type": "execute_result"
    },
    {
     "data": {
      "image/png": "[encoded data removed]",
      "text/plain": [
       "<Figure size 640x480 with 1 Axes>"
      ]
     },
     "metadata": {},
     "output_type": "display_data"
    }
   ],
   "source": [
    "plt.plot(price_log['timestamp'],price_log['price'], marker='o')\n",
    "plt.xticks(rotation=45) #to change label in vertical line"
   ]
  },
  {
   "cell_type": "code",
   "execution_count": 14,
   "id": "68d8e31c-bc0f-40bf-b6c0-c83d1ab9815f",
   "metadata": {},
   "outputs": [
    {
     "data": {
      "text/plain": [
       "(array([20292.79409722, 20292.79415509, 20292.79421296, 20292.79427083]),\n",
       " [Text(20292.79409722222, 0, '19:03:30'),\n",
       "  Text(20292.794155092593, 0, '19:03:35'),\n",
       "  Text(20292.794212962963, 0, '19:03:40'),\n",
       "  Text(20292.794270833332, 0, '19:03:45')])"
      ]
     },
     "execution_count": 14,
     "metadata": {},
     "output_type": "execute_result"
    },
    {
     "data": {
      "image/png": "[encoded data removed]",
      "text/plain": [
       "<Figure size 640x480 with 1 Axes>"
      ]
     },
     "metadata": {},
     "output_type": "display_data"
    }
   ],
   "source": [
    "plt.plot(price_log['timestamp'],price_log['MA_5'], label = 'Pmoving Average 5', linestyle = '--')\n",
    "plt.xticks(rotation=90) #to change label in vertical line"
   ]
  },
  {
   "cell_type": "code",
   "execution_count": 15,
   "id": "d1a6541c-2d71-47c9-9365-41572bfdbb48",
   "metadata": {},
   "outputs": [
    {
     "data": {
      "image/png": "[encoded data removed]",
      "text/plain": [
       "<Figure size 640x480 with 1 Axes>"
      ]
     },
     "metadata": {},
     "output_type": "display_data"
    }
   ],
   "source": [
    "plt.scatter(price_log[price_log['anomaly']]['timestamp'],\n",
    "           price_log[price_log['anomaly']]['price'],\n",
    "           color='red', label='anomaly', zorder=5)\n",
    "plt.xticks(rotation = 45)\n",
    "plt.title(\"Real-Time Bitcoin Price\")\n",
    "plt.xlabel(\"Timestamp\")\n",
    "plt.ylabel(\"Price(USD)\")\n",
    "plt.legend()\n",
    "plt.grid(True)\n",
    "plt.tight_layout()\n",
    "plt.show()\n",
    "plt.show()"
   ]
  },
  {
   "cell_type": "code",
   "execution_count": 16,
   "id": "174723db-e584-4726-a038-443861eff0e1",
   "metadata": {},
   "outputs": [
    {
     "data": {
      "text/plain": [
       "Series([], Name: timestamp, dtype: datetime64[ns])"
      ]
     },
     "execution_count": 16,
     "metadata": {},
     "output_type": "execute_result"
    }
   ],
   "source": [
    "price_log[price_log['anomaly']]['timestamp']\n"
   ]
  },
  {
   "cell_type": "code",
   "execution_count": 17,
   "id": "bcb4b856-8fea-4931-bb2c-54ecedac865f",
   "metadata": {},
   "outputs": [
    {
     "data": {
      "text/plain": [
       "Series([], Name: price, dtype: object)"
      ]
     },
     "execution_count": 17,
     "metadata": {},
     "output_type": "execute_result"
    }
   ],
   "source": [
    "price_log[price_log['anomaly']]['price']"
   ]
  },
  {
   "cell_type": "code",
   "execution_count": 18,
   "id": "e1225594-56bb-44d8-8723-9509b3cc2066",
   "metadata": {},
   "outputs": [
    {
     "name": "stderr",
     "output_type": "stream",
     "text": [
      "C:\\Users\\Birendra\\AppData\\Local\\Temp\\ipykernel_15164\\2949042927.py:4: UserWarning: No artists with labels found to put in legend.  Note that artists whose label start with an underscore are ignored when legend() is called with no argument.\n",
      "  plt.legend()\n"
     ]
    },
    {
     "data": {
      "image/png": "[encoded data removed]",
      "text/plain": [
       "<Figure size 640x480 with 1 Axes>"
      ]
     },
     "metadata": {},
     "output_type": "display_data"
    }
   ],
   "source": [
    "plt.title(\"Real-Time Bitcoin Price\")\n",
    "plt.xlabel(\"Timestamp\")\n",
    "plt.ylabel(\"Price(USD)\")\n",
    "plt.legend()\n",
    "plt.grid(True)\n",
    "plt.tight_layout()\n",
    "plt.show()"
   ]
  },
  {
   "cell_type": "code",
   "execution_count": 20,
   "id": "dffbe583-cbf6-4466-b088-6146886236ea",
   "metadata": {},
   "outputs": [
    {
     "name": "stdout",
     "output_type": "stream",
     "text": [
      "Decomposition Failed: name 'seasonal_decompose' is not defined\n"
     ]
    }
   ],
   "source": [
    "if len(price_log) >=3:\n",
    "    try:\n",
    "        decompose = seasonal_decompose(price_log['price'].fillna(method='bfill'),model='additive',period=5)\n",
    "        decompose.plot()\n",
    "        plt.tight_layout()\n",
    "        plt.show()\n",
    "    except Exception as e:\n",
    "        print(f\"Decomposition Failed: {e}\")\n",
    "\n",
    "else:\n",
    "    print(\"Not enough data \")"
   ]
  },
  {
   "cell_type": "code",
   "execution_count": null,
   "id": "a67b5cc5-b2bf-444c-bc4e-dbdcd7f4c562",
   "metadata": {},
   "outputs": [],
   "source": []
  }
 ],
 "metadata": {
  "kernelspec": {
   "display_name": "Python [conda env:cleanenv]",
   "language": "python",
   "name": "conda-env-cleanenv-py"
  },
  "language_info": {
   "codemirror_mode": {
    "name": "ipython",
    "version": 3
   },
   "file_extension": ".py",
   "mimetype": "text/x-python",
   "name": "python",
   "nbconvert_exporter": "python",
   "pygments_lexer": "ipython3",
   "version": "3.11.13"
  }
 },
 "nbformat": 4,
 "nbformat_minor": 5
}
