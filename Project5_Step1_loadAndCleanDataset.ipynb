{
 "cells": [
  {
   "cell_type": "markdown",
   "id": "4cc46e47-3657-40d1-bac5-ab663f79a595",
   "metadata": {},
   "source": [
    "Project 5: Amazon sentiment sleuth : Analyzing Product Reviews with LLMs"
   ]
  },
  {
   "cell_type": "markdown",
   "id": "e5f935f1-b8f2-4e1c-afdd-5cf56ffc8b5b",
   "metadata": {},
   "source": [
    "Obejective:\n",
    "To analyze customer reviews from Amazon and classify them as positive, negative, or neutral\n",
    "using Natural Language Processing (NLP) and Machine Learning (ML) techniques.\n",
    "\n",
    "About File:\n",
    "The dataset is a collection of reviews written in the Amazon.com marketplace for a product(Applicances).\n",
    "This is intended to facilitate study into the properties\n",
    "of customer reviews potentially including how people evaluate and express their experiences with respect to products at scale."
   ]
  },
  {
   "cell_type": "code",
   "execution_count": 4,
   "id": "9614ddbf-c2c2-4e36-8e8e-2dd2b5c61862",
   "metadata": {},
   "outputs": [
    {
     "name": "stdout",
     "output_type": "stream",
     "text": [
      "Collecting nltk\n",
      "  Downloading nltk-3.9.1-py3-none-any.whl.metadata (2.9 kB)\n",
      "Collecting click (from nltk)\n",
      "  Downloading click-8.2.1-py3-none-any.whl.metadata (2.5 kB)\n",
      "Requirement already satisfied: joblib in c:\\users\\birendra\\anaconda3\\envs\\cleanenv\\lib\\site-packages (from nltk) (1.5.1)\n",
      "Collecting regex>=2021.8.3 (from nltk)\n",
      "  Downloading regex-2024.11.6-cp311-cp311-win_amd64.whl.metadata (41 kB)\n",
      "Collecting tqdm (from nltk)\n",
      "  Downloading tqdm-4.67.1-py3-none-any.whl.metadata (57 kB)\n",
      "Requirement already satisfied: colorama in c:\\users\\birendra\\anaconda3\\envs\\cleanenv\\lib\\site-packages (from click->nltk) (0.4.6)\n",
      "Downloading nltk-3.9.1-py3-none-any.whl (1.5 MB)\n",
      "   ---------------------------------------- 0.0/1.5 MB ? eta -:--:--\n",
      "   ---------------------------------------- 1.5/1.5 MB 15.9 MB/s eta 0:00:00\n",
      "Downloading regex-2024.11.6-cp311-cp311-win_amd64.whl (274 kB)\n",
      "Downloading click-8.2.1-py3-none-any.whl (102 kB)\n",
      "Downloading tqdm-4.67.1-py3-none-any.whl (78 kB)\n",
      "Installing collected packages: tqdm, regex, click, nltk\n",
      "\n",
      "   ---------- ----------------------------- 1/4 [regex]\n",
      "   ---------- ----------------------------- 1/4 [regex]\n",
      "   -------------------- ------------------- 2/4 [click]\n",
      "   ------------------------------ --------- 3/4 [nltk]\n",
      "   ------------------------------ --------- 3/4 [nltk]\n",
      "   ------------------------------ --------- 3/4 [nltk]\n",
      "   ------------------------------ --------- 3/4 [nltk]\n",
      "   ------------------------------ --------- 3/4 [nltk]\n",
      "   ------------------------------ --------- 3/4 [nltk]\n",
      "   ------------------------------ --------- 3/4 [nltk]\n",
      "   ------------------------------ --------- 3/4 [nltk]\n",
      "   ------------------------------ --------- 3/4 [nltk]\n",
      "   ------------------------------ --------- 3/4 [nltk]\n",
      "   ------------------------------ --------- 3/4 [nltk]\n",
      "   ------------------------------ --------- 3/4 [nltk]\n",
      "   ------------------------------ --------- 3/4 [nltk]\n",
      "   ------------------------------ --------- 3/4 [nltk]\n",
      "   ------------------------------ --------- 3/4 [nltk]\n",
      "   ---------------------------------------- 4/4 [nltk]\n",
      "\n",
      "Successfully installed click-8.2.1 nltk-3.9.1 regex-2024.11.6 tqdm-4.67.1\n"
     ]
    }
   ],
   "source": [
    "#installing neccessary libraries\n",
    "#!pip install nltk\n",
    "import nltk\n",
    "#nltk.download('punkt_tab') \n",
    "#nltk.download('stopwords') # Download the stop words list\n",
    "#nltk.download('wordnet') # For lexical database\n",
    "#nltk.download('omw-1.4') # Optional for extended multilingual support"
   ]
  },
  {
   "cell_type": "code",
   "execution_count": 40,
   "id": "4d3676e5-efba-4697-b93e-c110967b1699",
   "metadata": {},
   "outputs": [],
   "source": [
    "#importing necessary libraries\n",
    "\n",
    "import numpy as np\n",
    "import pandas as pd\n",
    "import matplotlib.pyplot as plt\n",
    "import seaborn as sns\n",
    "import nltk #Python library for working with text\n",
    "from nltk.tokenize import word_tokenize ## Tokenizing into word\n",
    "from nltk.tokenize import sent_tokenize ## Tokenizing into sentence\n",
    "from nltk.corpus import stopwords ## Stopwords\n",
    "from nltk.stem import PorterStemmer # Stemming algorithm\n",
    "# We need WordNet and Punkt for tokenization and lemmatization\n",
    "from nltk.corpus import wordnet # for WordNet-compatible POS tags\n",
    "from nltk.tag import pos_tag # to assign POS tags to words\n",
    "from nltk.stem import WordNetLemmatizer # from NLTK for lemmatization\n",
    "\n",
    "import re ## Regular Expression"
   ]
  },
  {
   "cell_type": "code",
   "execution_count": 41,
   "id": "fe1851d2-d8a0-4f5e-a679-5cad207e3032",
   "metadata": {},
   "outputs": [
    {
     "name": "stdout",
     "output_type": "stream",
     "text": [
      "   overall  verified   reviewTime      reviewerID        asin  \\\n",
      "0      5.0      True  08 22, 2013  A34A1UP40713F8  B00009W3I4   \n",
      "1      5.0      True   02 8, 2016  A1AHW6I678O6F2  B00009W3PA   \n",
      "2      5.0      True   08 5, 2015   A8R48NKTGCJDQ  B00009W3PA   \n",
      "3      5.0      True  04 24, 2015   AR3OHHHW01A8E  B00009W3PA   \n",
      "4      5.0      True  03 21, 2015  A2CIEGHZ7L1WWR  B00009W3PA   \n",
      "\n",
      "                       style     reviewerName  \\\n",
      "0  {'Style:': ' Dryer Vent'}    James. Backus   \n",
      "1       {'Size:': ' 6-Foot'}           kevin.   \n",
      "2       {'Size:': ' 6-Foot'}        CDBrannom   \n",
      "3       {'Size:': ' 6-Foot'}  Calvin E Reames   \n",
      "4       {'Size:': ' 6-Foot'}   albert j. kong   \n",
      "\n",
      "                                          reviewText        summary  \\\n",
      "0  I like this as a vent as well as something tha...  Great product   \n",
      "1                                          good item     Five Stars   \n",
      "2                     Fit my new LG dryer perfectly.     Five Stars   \n",
      "3                     Good value for electric dryers   Perfect size   \n",
      "4                  Price and delivery was excellent.     Five Stars   \n",
      "\n",
      "   unixReviewTime vote image  \n",
      "0      1377129600  NaN   NaN  \n",
      "1      1454889600  NaN   NaN  \n",
      "2      1438732800  NaN   NaN  \n",
      "3      1429833600  NaN   NaN  \n",
      "4      1426896000  NaN   NaN  \n"
     ]
    }
   ],
   "source": [
    "#1) load dataset\n",
    "\n",
    "import json\n",
    "\n",
    "data = []\n",
    "with open('amazon_reviews.json', 'r') as f:\n",
    "    for line in f:\n",
    "        data.append(json.loads(line))\n",
    "\n",
    "df = pd.DataFrame(data)\n",
    "print(df.head())"
   ]
  },
  {
   "cell_type": "code",
   "execution_count": 42,
   "id": "0c6f9f63-85e9-493a-8e98-01bd93d9d99e",
   "metadata": {},
   "outputs": [
    {
     "name": "stdout",
     "output_type": "stream",
     "text": [
      "<class 'pandas.core.frame.DataFrame'>\n",
      "RangeIndex: 2277 entries, 0 to 2276\n",
      "Data columns (total 12 columns):\n",
      " #   Column          Non-Null Count  Dtype  \n",
      "---  ------          --------------  -----  \n",
      " 0   overall         2277 non-null   float64\n",
      " 1   verified        2277 non-null   bool   \n",
      " 2   reviewTime      2277 non-null   object \n",
      " 3   reviewerID      2277 non-null   object \n",
      " 4   asin            2277 non-null   object \n",
      " 5   style           38 non-null     object \n",
      " 6   reviewerName    2277 non-null   object \n",
      " 7   reviewText      2277 non-null   object \n",
      " 8   summary         2277 non-null   object \n",
      " 9   unixReviewTime  2277 non-null   int64  \n",
      " 10  vote            2074 non-null   object \n",
      " 11  image           828 non-null    object \n",
      "dtypes: bool(1), float64(1), int64(1), object(9)\n",
      "memory usage: 198.0+ KB\n"
     ]
    },
    {
     "data": {
      "text/html": [
       "<div>\n",
       "<style scoped>\n",
       "    .dataframe tbody tr th:only-of-type {\n",
       "        vertical-align: middle;\n",
       "    }\n",
       "\n",
       "    .dataframe tbody tr th {\n",
       "        vertical-align: top;\n",
       "    }\n",
       "\n",
       "    .dataframe thead th {\n",
       "        text-align: right;\n",
       "    }\n",
       "</style>\n",
       "<table border=\"1\" class=\"dataframe\">\n",
       "  <thead>\n",
       "    <tr style=\"text-align: right;\">\n",
       "      <th></th>\n",
       "      <th>count</th>\n",
       "      <th>mean</th>\n",
       "      <th>std</th>\n",
       "      <th>min</th>\n",
       "      <th>25%</th>\n",
       "      <th>50%</th>\n",
       "      <th>75%</th>\n",
       "      <th>max</th>\n",
       "    </tr>\n",
       "  </thead>\n",
       "  <tbody>\n",
       "    <tr>\n",
       "      <th>overall</th>\n",
       "      <td>2277.0</td>\n",
       "      <td>4.499780e+00</td>\n",
       "      <td>8.377227e-01</td>\n",
       "      <td>1.000000e+00</td>\n",
       "      <td>4.000000e+00</td>\n",
       "      <td>5.000000e+00</td>\n",
       "      <td>5.000000e+00</td>\n",
       "      <td>5.000000e+00</td>\n",
       "    </tr>\n",
       "    <tr>\n",
       "      <th>unixReviewTime</th>\n",
       "      <td>2277.0</td>\n",
       "      <td>1.457410e+09</td>\n",
       "      <td>5.639808e+07</td>\n",
       "      <td>1.221523e+09</td>\n",
       "      <td>1.449274e+09</td>\n",
       "      <td>1.478650e+09</td>\n",
       "      <td>1.482278e+09</td>\n",
       "      <td>1.523923e+09</td>\n",
       "    </tr>\n",
       "  </tbody>\n",
       "</table>\n",
       "</div>"
      ],
      "text/plain": [
       "                 count          mean           std           min  \\\n",
       "overall         2277.0  4.499780e+00  8.377227e-01  1.000000e+00   \n",
       "unixReviewTime  2277.0  1.457410e+09  5.639808e+07  1.221523e+09   \n",
       "\n",
       "                         25%           50%           75%           max  \n",
       "overall         4.000000e+00  5.000000e+00  5.000000e+00  5.000000e+00  \n",
       "unixReviewTime  1.449274e+09  1.478650e+09  1.482278e+09  1.523923e+09  "
      ]
     },
     "execution_count": 42,
     "metadata": {},
     "output_type": "execute_result"
    }
   ],
   "source": [
    "#2) Data exploration\n",
    "\n",
    "df.shape ## Checking the shape—i.e. size—of the data\n",
    "df.info() ##Learning the data types of columns\n",
    "df.describe().T ## Getting the statistical summary of dataset"
   ]
  },
  {
   "cell_type": "code",
   "execution_count": 43,
   "id": "f3799c4c-1720-45b4-9e3f-9ea54349e083",
   "metadata": {},
   "outputs": [
    {
     "name": "stdout",
     "output_type": "stream",
     "text": [
      "Missing Values by Column\n",
      "------------------------------\n",
      "overall              0\n",
      "verified             0\n",
      "reviewTime           0\n",
      "reviewerID           0\n",
      "asin                 0\n",
      "style             2239\n",
      "reviewerName         0\n",
      "reviewText           0\n",
      "summary              0\n",
      "unixReviewTime       0\n",
      "vote               203\n",
      "image             1449\n",
      "dtype: int64\n",
      "------------------------------\n",
      "TOTAL MISSING VALUES: 3891\n",
      "      overall  verified   reviewTime      reviewerID        asin  \\\n",
      "0         5.0      True  08 22, 2013  A34A1UP40713F8  B00009W3I4   \n",
      "1         5.0      True   02 8, 2016  A1AHW6I678O6F2  B00009W3PA   \n",
      "2         5.0      True   08 5, 2015   A8R48NKTGCJDQ  B00009W3PA   \n",
      "3         5.0      True  04 24, 2015   AR3OHHHW01A8E  B00009W3PA   \n",
      "4         5.0      True  03 21, 2015  A2CIEGHZ7L1WWR  B00009W3PA   \n",
      "...       ...       ...          ...             ...         ...   \n",
      "2272      5.0      True   12 6, 2016  A2B2JVUX5YN8RU  B0006GVNOA   \n",
      "2273      5.0      True  03 20, 2016  A1IT56MV1C09VS  B0006GVNOA   \n",
      "2274      5.0      True  10 15, 2016  A13391AZAFJ67K  B00570RQ0A   \n",
      "2275      5.0      True   01 5, 2016  A2V0JXLJ9VCNNX  B00570RQ0A   \n",
      "2276      5.0      True   12 5, 2016  A3GP2HMB2AFOKF  B00W4YKCGC   \n",
      "\n",
      "         reviewerName                                         reviewText  \\\n",
      "0       James. Backus  I like this as a vent as well as something tha...   \n",
      "1              kevin.                                          good item   \n",
      "2           CDBrannom                     Fit my new LG dryer perfectly.   \n",
      "3     Calvin E Reames                     Good value for electric dryers   \n",
      "4      albert j. kong                  Price and delivery was excellent.   \n",
      "...               ...                                                ...   \n",
      "2272            Caleb  Works great. I used it and an extension kit wi...   \n",
      "2273    Looneypenguin  Anyone who thinks they don't have a problem wi...   \n",
      "2274           Fred A                                               good   \n",
      "2275  Amazon Customer                                     washer washing   \n",
      "2276             Juan                        Great product fast shipping   \n",
      "\n",
      "                                                summary  unixReviewTime  \n",
      "0                                         Great product      1377129600  \n",
      "1                                            Five Stars      1454889600  \n",
      "2                                            Five Stars      1438732800  \n",
      "3                                          Perfect size      1429833600  \n",
      "4                                            Five Stars      1426896000  \n",
      "...                                                 ...             ...  \n",
      "2272                                Worked like a charm      1480982400  \n",
      "2273  Excellent product and showed me that my vent o...      1458432000  \n",
      "2274                                         Five Stars      1476489600  \n",
      "2275                                         Five Stars      1451952000  \n",
      "2276                                         Five Stars      1480896000  \n",
      "\n",
      "[2277 rows x 9 columns]\n"
     ]
    }
   ],
   "source": [
    "#3) Data Cleaning and processing\n",
    "# Checking for the missing values\n",
    "print(\"Missing Values by Column\")\n",
    "print(\"-\"*30)\n",
    "print(df.isna().sum())\n",
    "print(\"-\"*30)\n",
    "print(\"TOTAL MISSING VALUES:\",df.isna().sum().sum())\n",
    "\n",
    "# Drop columns with any missing values and are not necessary\n",
    "df = df.dropna(axis=1)\n",
    "print(df)"
   ]
  },
  {
   "cell_type": "code",
   "execution_count": 14,
   "id": "71049447-1b80-41ec-a93f-b74b24135a0e",
   "metadata": {},
   "outputs": [
    {
     "name": "stdout",
     "output_type": "stream",
     "text": [
      "2072\n",
      "      overall  verified   reviewTime      reviewerID        asin  \\\n",
      "0         5.0      True  08 22, 2013  A34A1UP40713F8  B00009W3I4   \n",
      "1         5.0      True   02 8, 2016  A1AHW6I678O6F2  B00009W3PA   \n",
      "2         5.0      True   08 5, 2015   A8R48NKTGCJDQ  B00009W3PA   \n",
      "3         5.0      True  04 24, 2015   AR3OHHHW01A8E  B00009W3PA   \n",
      "4         5.0      True  03 21, 2015  A2CIEGHZ7L1WWR  B00009W3PA   \n",
      "...       ...       ...          ...             ...         ...   \n",
      "2262      5.0      True  08 29, 2014  A1H2V1GNEY4LZ0  B00W4YKCGC   \n",
      "2263      5.0      True  08 11, 2014   AVGG8CYK8K312  B00W4YKCGC   \n",
      "2274      5.0      True  10 15, 2016  A13391AZAFJ67K  B00570RQ0A   \n",
      "2275      5.0      True   01 5, 2016  A2V0JXLJ9VCNNX  B00570RQ0A   \n",
      "2276      5.0      True   12 5, 2016  A3GP2HMB2AFOKF  B00W4YKCGC   \n",
      "\n",
      "         reviewerName                                         reviewText  \\\n",
      "0       James. Backus  I like this as a vent as well as something tha...   \n",
      "1              kevin.                                          good item   \n",
      "2           CDBrannom                     Fit my new LG dryer perfectly.   \n",
      "3     Calvin E Reames                     Good value for electric dryers   \n",
      "4      albert j. kong                  Price and delivery was excellent.   \n",
      "...               ...                                                ...   \n",
      "2262         Handyman                        Work perfectly and on time!   \n",
      "2263            Larry  I use these regular on my jobs I love the pric...   \n",
      "2274           Fred A                                               good   \n",
      "2275  Amazon Customer                                     washer washing   \n",
      "2276             Juan                        Great product fast shipping   \n",
      "\n",
      "                                                summary  unixReviewTime  \n",
      "0                                         Great product      1377129600  \n",
      "1                                            Five Stars      1454889600  \n",
      "2                                            Five Stars      1438732800  \n",
      "3                                          Perfect size      1429833600  \n",
      "4                                            Five Stars      1426896000  \n",
      "...                                                 ...             ...  \n",
      "2262  Could not beat the great price and fast delivery!      1409270400  \n",
      "2263                                         Five Stars      1407715200  \n",
      "2274                                         Five Stars      1476489600  \n",
      "2275                                         Five Stars      1451952000  \n",
      "2276                                         Five Stars      1480896000  \n",
      "\n",
      "[205 rows x 9 columns]\n"
     ]
    }
   ],
   "source": [
    "# Print duplicate rows\n",
    "print(df.duplicated().sum()) #2072 duplicates\n",
    "\n",
    "# Remove duplicate rows\n",
    "df = df.drop_duplicates()\n",
    "print(df)\n",
    "\n",
    "\n"
   ]
  },
  {
   "cell_type": "markdown",
   "id": "c5c40cfc-1d42-44bf-af46-756b368fcb60",
   "metadata": {},
   "source": [
    "Exploratory Data Analysis:\n",
    "\n",
    "Generate a bar plot showing the distribution of review scores, \n",
    "this helps to visualize the distribution of reviews based on star ratings"
   ]
  },
  {
   "cell_type": "code",
   "execution_count": 44,
   "id": "67233833-b2d5-4373-b6fe-770db520e31f",
   "metadata": {},
   "outputs": [
    {
     "data": {
      "image/png": "[encoded data removed]",
      "text/plain": [
       "<Figure size 640x480 with 1 Axes>"
      ]
     },
     "metadata": {},
     "output_type": "display_data"
    }
   ],
   "source": [
    "# Exploratory data analysis\n",
    "from matplotlib import pyplot as plt\n",
    "df['overall'].plot(kind='hist', bins=10, title='Overall rating (1-5) ')\n",
    "plt.xlabel('star rating')\n",
    "plt.ylabel('frequency')\n",
    "plt.gca().spines[['top', 'right',]].set_visible(False)"
   ]
  },
  {
   "cell_type": "markdown",
   "id": "e599f0fc-dd61-49ac-b1a4-56b2da5fa8e8",
   "metadata": {},
   "source": [
    "Above Graph shows that most of the reviews are positive, and the negative reviews are very few."
   ]
  },
  {
   "cell_type": "code",
   "execution_count": 45,
   "id": "ad74ed35-ae05-43df-9b97-dce9e874464a",
   "metadata": {},
   "outputs": [
    {
     "data": {
      "image/png": "[encoded data removed]",
      "text/plain": [
       "<Figure size 640x480 with 1 Axes>"
      ]
     },
     "metadata": {},
     "output_type": "display_data"
    }
   ],
   "source": [
    "#Generate Bar Graph to see if the reviews are verified\n",
    "df.groupby('verified').size().plot(kind='barh', color=sns.palettes.mpl_palette('Dark2'))\n",
    "plt.gca().spines[['top', 'right',]].set_visible(False)"
   ]
  },
  {
   "cell_type": "markdown",
   "id": "1f6a3164-e58b-4f8e-9366-965c88075d1e",
   "metadata": {},
   "source": [
    "Above Graph shows that reviews are mostly from verified customers"
   ]
  },
  {
   "cell_type": "code",
   "execution_count": 46,
   "id": "b660d110-6daf-4a2a-8caa-9fb66bb96909",
   "metadata": {},
   "outputs": [],
   "source": [
    "# Rename  columns to comman name using a dictionary\n",
    "df_renamed = df.rename(columns={'asin': 'Product_ID', 'reviewText': 'Reviews'})\n"
   ]
  },
  {
   "cell_type": "code",
   "execution_count": 47,
   "id": "d50be115-8192-47b7-bd7e-e9b9efa24f4c",
   "metadata": {},
   "outputs": [],
   "source": [
    "# Write the cleaned DataFrame to a CSV file\n",
    "# 'output.csv' is the desired file name\n",
    "# index=False prevents writing the DataFrame index as a column in the CSV\n",
    "df_renamed.to_csv('amazon_reviews.csv', index=False) "
   ]
  },
  {
   "cell_type": "code",
   "execution_count": null,
   "id": "6ed27576-fc6e-45b8-bff7-a5c65f9509ee",
   "metadata": {},
   "outputs": [],
   "source": []
  }
 ],
 "metadata": {
  "kernelspec": {
   "display_name": "Python [conda env:cleanenv]",
   "language": "python",
   "name": "conda-env-cleanenv-py"
  },
  "language_info": {
   "codemirror_mode": {
    "name": "ipython",
    "version": 3
   },
   "file_extension": ".py",
   "mimetype": "text/x-python",
   "name": "python",
   "nbconvert_exporter": "python",
   "pygments_lexer": "ipython3",
   "version": "3.11.13"
  }
 },
 "nbformat": 4,
 "nbformat_minor": 5
}
